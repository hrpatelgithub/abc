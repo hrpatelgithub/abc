{
 "cells": [
  {
   "cell_type": "markdown",
   "id": "00d7e202",
   "metadata": {},
   "source": [
    "**ans-1>**\n",
    "\n",
    "#Two values of the Boolean data are True and False.where as,true=1 and false=0"
   ]
  },
  {
   "cell_type": "markdown",
   "id": "5523461c",
   "metadata": {},
   "source": [
    "**ans-2>**\n",
    "# Three different types of Boolean operators\n",
    "     1. and\n",
    "     2. or\n",
    "     3. not  "
   ]
  },
  {
   "cell_type": "raw",
   "id": "0e5178b4",
   "metadata": {},
   "source": [
    "ans-3>\n",
    "#list of each Boolean operator truth tables\n",
    "     _x  y  x or y  x and y\n",
    "     0  0     0      0\n",
    "     0  1     0      0\n",
    "     1  0     0      0\n",
    "     1  1     1      1_\n",
    "   \n",
    "    where false=0\n",
    "          true=1\n",
    "     "
   ]
  },
  {
   "cell_type": "raw",
   "id": "bead633a",
   "metadata": {},
   "source": [
    "ans-4>\n",
    "     (5 > 4) and (3 == 5)--> False\n",
    "     not(5>4)--> False\n",
    "     (5>4)or(3==5)--> True\n",
    "     not ((5 > 4) or (3 == 5))--> False\n",
    "     (True and True) and (True == False)--> False\n",
    "     (not False) or (not True)--> True\n"
   ]
  },
  {
   "cell_type": "raw",
   "id": "15198463",
   "metadata": {},
   "source": [
    "ans-5>\n",
    "#six comparison operators\n",
    "    1.!= not equal to\n",
    "    2.< greater than\n",
    "    3.> less than\n",
    "    4. <= less than equal to\n",
    "    5. >= greater than equal to\n",
    "    6. == equal to"
   ]
  },
  {
   "cell_type": "raw",
   "id": "50b7e48f",
   "metadata": {},
   "source": [
    "ans-6>\n",
    "#the difference between the equal to and assignment operators\n",
    "   1. == is equal to operator (i.e double = sign)\n",
    "   2.  = is assignment operator\n",
    "    #example\n",
    "    1. a==10 - is equal to operator\n",
    "    2. a=10  -is assignment operator\n",
    " #Equal to opertion is use in comparison or check the condition  and assigment operstion is use for intial value or store the value"
   ]
  },
  {
   "cell_type": "raw",
   "id": "e49e0af4",
   "metadata": {},
   "source": [
    "ans-7>\n",
    "spam"
   ]
  },
  {
   "cell_type": "raw",
   "id": "030b852e",
   "metadata": {},
   "source": [
    "ans-8>\n",
    "\n",
    "spam = int(input())\n",
    "if spam==1:\n",
    "    print(\"Hello\")\n",
    "elif spam==2:\n",
    "    print(\"Howdy\")\n",
    "else:\n",
    "    print(\"Greetings!\")\n"
   ]
  },
  {
   "cell_type": "raw",
   "id": "3d19c499",
   "metadata": {},
   "source": [
    "ans-9>\n",
    "If your programme is stuck in an endless loop, I will use ctrl+c."
   ]
  },
  {
   "cell_type": "raw",
   "id": "51897e6c",
   "metadata": {},
   "source": [
    "ans-10>\n",
    "When we use Break, the programme is stopwhen condition is satisfied\n",
    "when we use continue, the programme is also while condition is satisfied"
   ]
  },
  {
   "cell_type": "raw",
   "id": "b6214c4b",
   "metadata": {},
   "source": [
    "ans-11>\n",
    "There is no difference between range(10), range(0, 10), and range(0, 10, 1) in for loop.\n"
   ]
  },
  {
   "cell_type": "raw",
   "id": "5130ef2a",
   "metadata": {},
   "source": [
    "ans-12>\n",
    "#for loop:\n",
    "\n",
    "for i in range(1,11):\n",
    "    print(i)\n",
    "  \n",
    "#while loop:\n",
    "i = 1\n",
    "while i>0 and i<=10:\n",
    "    print(i)\n",
    "    i = i+1\n",
    "\n"
   ]
  },
  {
   "cell_type": "raw",
   "id": "4b9ee76a",
   "metadata": {},
   "source": [
    "ans-13\n",
    "spam.bacon()"
   ]
  }
 ],
 "metadata": {
  "kernelspec": {
   "display_name": "Python 3 (ipykernel)",
   "language": "python",
   "name": "python3"
  },
  "language_info": {
   "codemirror_mode": {
    "name": "ipython",
    "version": 3
   },
   "file_extension": ".py",
   "mimetype": "text/x-python",
   "name": "python",
   "nbconvert_exporter": "python",
   "pygments_lexer": "ipython3",
   "version": "3.11.5"
  }
 },
 "nbformat": 4,
 "nbformat_minor": 5
}
